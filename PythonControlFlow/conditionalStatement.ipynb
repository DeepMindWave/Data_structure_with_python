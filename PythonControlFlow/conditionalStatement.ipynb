{
 "cells": [
  {
   "cell_type": "markdown",
   "metadata": {},
   "source": [
    "1. Introduction to Conditional Statements\n",
    "2. if Statement\n",
    "3. else Statement\n",
    "4. elif Statement\n",
    "5. Nested Conditional Statements\n",
    "6. Practical Examples\n",
    "7. Common Errors and Best Practices"
   ]
  },
  {
   "cell_type": "code",
   "execution_count": 2,
   "metadata": {},
   "outputs": [
    {
     "name": "stdout",
     "output_type": "stream",
     "text": [
      "The person can be a voter\n"
     ]
    }
   ],
   "source": [
    "# if satetement\n",
    "\n",
    "age =20 \n",
    "\n",
    "if age<18:\n",
    "    print(\"The person cannot be a voter\")\n",
    "else:\n",
    "    print(\"The person can be a voter\")\n",
    "    "
   ]
  },
  {
   "cell_type": "code",
   "execution_count": 8,
   "metadata": {},
   "outputs": [
    {
     "name": "stdout",
     "output_type": "stream",
     "text": [
      "The person can enroll for a PhD.\n"
     ]
    }
   ],
   "source": [
    "# Prompt the user for their prerequisite criteria\n",
    "prerequisite = input(\"Input a person's prerequisite criteria (e.g., 'adult' for voting, 'degree' for masters, 'masters' for PhD): \").lower()\n",
    "\n",
    "# Check the prerequisite and print the corresponding output\n",
    "if prerequisite == \"adult\":\n",
    "    print(\"The person can be a voter.\")\n",
    "elif prerequisite == \"degree\":\n",
    "    print(\"The person is able to enroll for a master's degree.\")\n",
    "elif prerequisite == \"masters\":\n",
    "    print(\"The person can enroll for a PhD.\")\n",
    "else:\n",
    "    print(\"Invalid input or the person does not meet any criteria.\")\n"
   ]
  },
  {
   "cell_type": "code",
   "execution_count": null,
   "metadata": {},
   "outputs": [],
   "source": []
  }
 ],
 "metadata": {
  "kernelspec": {
   "display_name": "Python 3",
   "language": "python",
   "name": "python3"
  },
  "language_info": {
   "codemirror_mode": {
    "name": "ipython",
    "version": 3
   },
   "file_extension": ".py",
   "mimetype": "text/x-python",
   "name": "python",
   "nbconvert_exporter": "python",
   "pygments_lexer": "ipython3",
   "version": "3.12.0"
  }
 },
 "nbformat": 4,
 "nbformat_minor": 2
}
